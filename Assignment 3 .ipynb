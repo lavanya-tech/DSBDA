{
 "cells": [
  {
   "cell_type": "code",
   "execution_count": 1,
   "id": "93b0e844",
   "metadata": {},
   "outputs": [
    {
     "name": "stdout",
     "output_type": "stream",
     "text": [
      "Ajay Kumar\n"
     ]
    }
   ],
   "source": [
    "print(\"Ajay Kumar\")"
   ]
  },
  {
   "cell_type": "code",
   "execution_count": 36,
   "id": "8a069ee6",
   "metadata": {},
   "outputs": [
    {
     "name": "stdout",
     "output_type": "stream",
     "text": [
      "Requirement already satisfied: pandas in c:\\users\\kumar\\appdata\\local\\programs\\python\\python39\\lib\\site-packages (1.4.2)Note: you may need to restart the kernel to use updated packages.\n",
      "\n",
      "Requirement already satisfied: python-dateutil>=2.8.1 in c:\\users\\kumar\\appdata\\local\\programs\\python\\python39\\lib\\site-packages (from pandas) (2.8.2)\n",
      "Requirement already satisfied: pytz>=2020.1 in c:\\users\\kumar\\appdata\\local\\programs\\python\\python39\\lib\\site-packages (from pandas) (2022.1)\n",
      "Requirement already satisfied: numpy>=1.18.5 in c:\\users\\kumar\\appdata\\local\\programs\\python\\python39\\lib\\site-packages (from pandas) (1.22.3)\n",
      "Requirement already satisfied: six>=1.5 in c:\\users\\kumar\\appdata\\local\\programs\\python\\python39\\lib\\site-packages (from python-dateutil>=2.8.1->pandas) (1.15.0)\n"
     ]
    }
   ],
   "source": [
    "pip install pandas\n"
   ]
  },
  {
   "cell_type": "code",
   "execution_count": 50,
   "id": "3a4b9c3a",
   "metadata": {},
   "outputs": [
    {
     "name": "stdout",
     "output_type": "stream",
     "text": [
      "        name gender section  salary  year_Joining  age\n",
      "0       Lois      F      H2      11          2003   60\n",
      "1     Brenda      F      H2       7          2008   60\n",
      "2        Joe      M      H2       8          2016   68\n",
      "3      Diane      F      H1       4          1999   51\n",
      "4   Benjamin      M      H2       7          2013   58\n",
      "..       ...    ...     ...     ...           ...  ...\n",
      "95      Jose      M      H2       7          2016   89\n",
      "96    Harold      M      H2       8          2011   77\n",
      "97    Nicole      F      H1       1          1989   60\n",
      "98   Theresa      F      H2       8          2010   57\n",
      "99     Tammy      F      H1       4          2015   55\n",
      "\n",
      "[100 rows x 6 columns]\n"
     ]
    }
   ],
   "source": [
    "import pandas as pd\n",
    "#Dataset CSV\n",
    "url = \"E:/xAPI-Edu-Data.csv\"\n",
    "df = pd.read_csv(url)\n",
    "print(df)"
   ]
  },
  {
   "cell_type": "code",
   "execution_count": 51,
   "id": "37bda4b6",
   "metadata": {
    "scrolled": true
   },
   "outputs": [
    {
     "data": {
      "text/plain": [
       "(100, 6)"
      ]
     },
     "execution_count": 51,
     "metadata": {},
     "output_type": "execute_result"
    }
   ],
   "source": [
    "#print the dimension of dataset\n",
    "df.shape"
   ]
  },
  {
   "cell_type": "code",
   "execution_count": 86,
   "id": "c9d20656",
   "metadata": {},
   "outputs": [
    {
     "data": {
      "text/plain": [
       "name            William\n",
       "gender                M\n",
       "section              H2\n",
       "salary               12\n",
       "year_Joining       2017\n",
       "age                  90\n",
       "dtype: object"
      ]
     },
     "execution_count": 86,
     "metadata": {},
     "output_type": "execute_result"
    }
   ],
   "source": [
    "url = \"E:/xAPI-Edu-Data.csv\"\n",
    "df = pd.read_csv(url)\n",
    "#maximum for all value in a dataset\n",
    "df.max()"
   ]
  },
  {
   "cell_type": "code",
   "execution_count": 87,
   "id": "ce0ba156",
   "metadata": {},
   "outputs": [
    {
     "name": "stdout",
     "output_type": "stream",
     "text": [
      "90\n"
     ]
    }
   ],
   "source": [
    "\n",
    "#maximum for particular value in a dataset\n",
    "print(df['age'].max())"
   ]
  },
  {
   "cell_type": "code",
   "execution_count": 88,
   "id": "539c2690",
   "metadata": {},
   "outputs": [
    {
     "data": {
      "text/plain": [
       "name            Aaron\n",
       "gender              F\n",
       "section            H1\n",
       "salary              1\n",
       "year_Joining     1983\n",
       "age                40\n",
       "dtype: object"
      ]
     },
     "execution_count": 88,
     "metadata": {},
     "output_type": "execute_result"
    }
   ],
   "source": [
    "#min for all value in a dataset\n",
    "df.min()"
   ]
  },
  {
   "cell_type": "code",
   "execution_count": 89,
   "id": "45205f79",
   "metadata": {},
   "outputs": [
    {
     "name": "stdout",
     "output_type": "stream",
     "text": [
      "40\n"
     ]
    }
   ],
   "source": [
    "\n",
    "#min for particular value in a dataset\n",
    "print(df['age'].min())"
   ]
  },
  {
   "cell_type": "code",
   "execution_count": 82,
   "id": "3c91bbc9",
   "metadata": {},
   "outputs": [
    {
     "name": "stdout",
     "output_type": "stream",
     "text": [
      "salary             6.25\n",
      "year_Joining    2008.12\n",
      "age               58.08\n",
      "dtype: float64\n"
     ]
    },
    {
     "name": "stderr",
     "output_type": "stream",
     "text": [
      "C:\\Users\\kumar\\AppData\\Local\\Temp\\ipykernel_2300\\855486343.py:4: FutureWarning: Dropping of nuisance columns in DataFrame reductions (with 'numeric_only=None') is deprecated; in a future version this will raise TypeError.  Select only valid columns before calling the reduction.\n",
      "  print(df.mean())\n"
     ]
    }
   ],
   "source": [
    "\n",
    "#mean for all value in a dataset\n",
    "print(df.mean())"
   ]
  },
  {
   "cell_type": "code",
   "execution_count": 81,
   "id": "990f8f34",
   "metadata": {},
   "outputs": [
    {
     "name": "stdout",
     "output_type": "stream",
     "text": [
      "58.08\n"
     ]
    }
   ],
   "source": [
    "\n",
    "#mean for all particular value in a dataset\n",
    "print(df['age'].mean())"
   ]
  },
  {
   "cell_type": "code",
   "execution_count": 80,
   "id": "546000e0",
   "metadata": {},
   "outputs": [
    {
     "name": "stderr",
     "output_type": "stream",
     "text": [
      "C:\\Users\\kumar\\AppData\\Local\\Temp\\ipykernel_2300\\2703298344.py:2: FutureWarning: Dropping of nuisance columns in DataFrame reductions (with 'numeric_only=None') is deprecated; in a future version this will raise TypeError.  Select only valid columns before calling the reduction.\n",
      "  df.median()\n"
     ]
    },
    {
     "data": {
      "text/plain": [
       "salary             7.0\n",
       "year_Joining    2010.5\n",
       "age               56.0\n",
       "dtype: float64"
      ]
     },
     "execution_count": 80,
     "metadata": {},
     "output_type": "execute_result"
    }
   ],
   "source": [
    "\n",
    "#median for all value in a dataset\n",
    "df.median()"
   ]
  },
  {
   "cell_type": "code",
   "execution_count": 79,
   "id": "4a95323f",
   "metadata": {},
   "outputs": [
    {
     "name": "stdout",
     "output_type": "stream",
     "text": [
      "56.0\n"
     ]
    }
   ],
   "source": [
    "\n",
    "#median for particular value in a dataset\n",
    "print(df['age'].median())"
   ]
  },
  {
   "cell_type": "code",
   "execution_count": 78,
   "id": "3d598b59",
   "metadata": {},
   "outputs": [
    {
     "data": {
      "text/html": [
       "<div>\n",
       "<style scoped>\n",
       "    .dataframe tbody tr th:only-of-type {\n",
       "        vertical-align: middle;\n",
       "    }\n",
       "\n",
       "    .dataframe tbody tr th {\n",
       "        vertical-align: top;\n",
       "    }\n",
       "\n",
       "    .dataframe thead th {\n",
       "        text-align: right;\n",
       "    }\n",
       "</style>\n",
       "<table border=\"1\" class=\"dataframe\">\n",
       "  <thead>\n",
       "    <tr style=\"text-align: right;\">\n",
       "      <th></th>\n",
       "      <th>name</th>\n",
       "      <th>gender</th>\n",
       "      <th>section</th>\n",
       "      <th>salary</th>\n",
       "      <th>year_Joining</th>\n",
       "      <th>age</th>\n",
       "    </tr>\n",
       "  </thead>\n",
       "  <tbody>\n",
       "    <tr>\n",
       "      <th>0</th>\n",
       "      <td>Nancy</td>\n",
       "      <td>F</td>\n",
       "      <td>H2</td>\n",
       "      <td>7</td>\n",
       "      <td>2016</td>\n",
       "      <td>60.0</td>\n",
       "    </tr>\n",
       "    <tr>\n",
       "      <th>1</th>\n",
       "      <td>NaN</td>\n",
       "      <td>NaN</td>\n",
       "      <td>NaN</td>\n",
       "      <td>8</td>\n",
       "      <td>2017</td>\n",
       "      <td>NaN</td>\n",
       "    </tr>\n",
       "  </tbody>\n",
       "</table>\n",
       "</div>"
      ],
      "text/plain": [
       "    name gender section  salary  year_Joining   age\n",
       "0  Nancy      F      H2       7          2016  60.0\n",
       "1    NaN    NaN     NaN       8          2017   NaN"
      ]
     },
     "execution_count": 78,
     "metadata": {},
     "output_type": "execute_result"
    }
   ],
   "source": [
    "\n",
    "#mode for all value in a dataset\n",
    "#This is the only central tendency measure that can be used with categorical variables, \n",
    "#unlike the mean and the median which can be used only with quantitative data.\n",
    "df.mode()"
   ]
  },
  {
   "cell_type": "code",
   "execution_count": 77,
   "id": "73a76ae1",
   "metadata": {},
   "outputs": [
    {
     "name": "stdout",
     "output_type": "stream",
     "text": [
      "0    Nancy\n",
      "Name: name, dtype: object\n"
     ]
    }
   ],
   "source": [
    "\n",
    "#median for all value in a dataset\n",
    "print(df['name'].mode())"
   ]
  },
  {
   "cell_type": "code",
   "execution_count": 76,
   "id": "0187d047",
   "metadata": {},
   "outputs": [
    {
     "name": "stderr",
     "output_type": "stream",
     "text": [
      "C:\\Users\\kumar\\AppData\\Local\\Temp\\ipykernel_2300\\2779672547.py:2: FutureWarning: Dropping of nuisance columns in DataFrame reductions (with 'numeric_only=None') is deprecated; in a future version this will raise TypeError.  Select only valid columns before calling the reduction.\n",
      "  df.std()\n"
     ]
    },
    {
     "data": {
      "text/plain": [
       "salary           3.453515\n",
       "year_Joining     8.642484\n",
       "age             12.294106\n",
       "dtype: float64"
      ]
     },
     "execution_count": 76,
     "metadata": {},
     "output_type": "execute_result"
    }
   ],
   "source": [
    "\n",
    "#Standard deviation for all value in a dataset\n",
    "df.std()"
   ]
  },
  {
   "cell_type": "code",
   "execution_count": 75,
   "id": "222ed302",
   "metadata": {},
   "outputs": [
    {
     "name": "stdout",
     "output_type": "stream",
     "text": [
      "12.294106332102814\n"
     ]
    }
   ],
   "source": [
    "\n",
    "#Standard deviation for particular value in a dataset\n",
    "print(df[\"age\"].std())"
   ]
  },
  {
   "cell_type": "code",
   "execution_count": 73,
   "id": "bed287cc",
   "metadata": {},
   "outputs": [
    {
     "name": "stderr",
     "output_type": "stream",
     "text": [
      "C:\\Users\\kumar\\AppData\\Local\\Temp\\ipykernel_2300\\1568254755.py:1: FutureWarning: Dropping of nuisance columns in DataFrame reductions (with 'numeric_only=None') is deprecated; in a future version this will raise TypeError.  Select only valid columns before calling the reduction.\n",
      "  df.var()\n"
     ]
    },
    {
     "data": {
      "text/plain": [
       "salary           11.926768\n",
       "year_Joining     74.692525\n",
       "age             151.145051\n",
       "dtype: float64"
      ]
     },
     "execution_count": 73,
     "metadata": {},
     "output_type": "execute_result"
    }
   ],
   "source": [
    "\n",
    "#Variance for all value in a dataset\n",
    "df.var()"
   ]
  },
  {
   "cell_type": "code",
   "execution_count": 74,
   "id": "c7138026",
   "metadata": {},
   "outputs": [
    {
     "name": "stdout",
     "output_type": "stream",
     "text": [
      "151.1450505050505\n"
     ]
    }
   ],
   "source": [
    "\n",
    "#Variance for particular value in a dataset\n",
    "print(df[\"age\"].var())"
   ]
  },
  {
   "cell_type": "code",
   "execution_count": 83,
   "id": "bc8c924c",
   "metadata": {},
   "outputs": [
    {
     "data": {
      "text/html": [
       "<div>\n",
       "<style scoped>\n",
       "    .dataframe tbody tr th:only-of-type {\n",
       "        vertical-align: middle;\n",
       "    }\n",
       "\n",
       "    .dataframe tbody tr th {\n",
       "        vertical-align: top;\n",
       "    }\n",
       "\n",
       "    .dataframe thead th {\n",
       "        text-align: right;\n",
       "    }\n",
       "</style>\n",
       "<table border=\"1\" class=\"dataframe\">\n",
       "  <thead>\n",
       "    <tr style=\"text-align: right;\">\n",
       "      <th></th>\n",
       "      <th>salary</th>\n",
       "      <th>year_Joining</th>\n",
       "      <th>age</th>\n",
       "    </tr>\n",
       "  </thead>\n",
       "  <tbody>\n",
       "    <tr>\n",
       "      <th>count</th>\n",
       "      <td>100.000000</td>\n",
       "      <td>100.000000</td>\n",
       "      <td>100.000000</td>\n",
       "    </tr>\n",
       "    <tr>\n",
       "      <th>mean</th>\n",
       "      <td>6.250000</td>\n",
       "      <td>2008.120000</td>\n",
       "      <td>58.080000</td>\n",
       "    </tr>\n",
       "    <tr>\n",
       "      <th>std</th>\n",
       "      <td>3.453515</td>\n",
       "      <td>8.642484</td>\n",
       "      <td>12.294106</td>\n",
       "    </tr>\n",
       "    <tr>\n",
       "      <th>min</th>\n",
       "      <td>1.000000</td>\n",
       "      <td>1983.000000</td>\n",
       "      <td>40.000000</td>\n",
       "    </tr>\n",
       "    <tr>\n",
       "      <th>25%</th>\n",
       "      <td>3.000000</td>\n",
       "      <td>2003.000000</td>\n",
       "      <td>50.000000</td>\n",
       "    </tr>\n",
       "    <tr>\n",
       "      <th>50%</th>\n",
       "      <td>7.000000</td>\n",
       "      <td>2010.500000</td>\n",
       "      <td>56.000000</td>\n",
       "    </tr>\n",
       "    <tr>\n",
       "      <th>75%</th>\n",
       "      <td>8.250000</td>\n",
       "      <td>2015.000000</td>\n",
       "      <td>61.250000</td>\n",
       "    </tr>\n",
       "    <tr>\n",
       "      <th>max</th>\n",
       "      <td>12.000000</td>\n",
       "      <td>2017.000000</td>\n",
       "      <td>90.000000</td>\n",
       "    </tr>\n",
       "  </tbody>\n",
       "</table>\n",
       "</div>"
      ],
      "text/plain": [
       "           salary  year_Joining         age\n",
       "count  100.000000    100.000000  100.000000\n",
       "mean     6.250000   2008.120000   58.080000\n",
       "std      3.453515      8.642484   12.294106\n",
       "min      1.000000   1983.000000   40.000000\n",
       "25%      3.000000   2003.000000   50.000000\n",
       "50%      7.000000   2010.500000   56.000000\n",
       "75%      8.250000   2015.000000   61.250000\n",
       "max     12.000000   2017.000000   90.000000"
      ]
     },
     "execution_count": 83,
     "metadata": {},
     "output_type": "execute_result"
    }
   ],
   "source": [
    "#function that prints the summary statistic of the numerical variables\n",
    "df.describe()"
   ]
  },
  {
   "cell_type": "code",
   "execution_count": 52,
   "id": "4769f0ba",
   "metadata": {},
   "outputs": [
    {
     "name": "stdout",
     "output_type": "stream",
     "text": [
      "gender\n",
      "F    60\n",
      "M    40\n",
      "Name: gender, dtype: int64\n"
     ]
    }
   ],
   "source": [
    "url = \"E:/xAPI-Edu-Data.csv\"\n",
    "df = pd.read_csv(url)\n",
    "#Grouping and perform count over each group\n",
    "df =  df.groupby('gender')['gender'].count()\n",
    "print(df)"
   ]
  },
  {
   "cell_type": "code",
   "execution_count": 53,
   "id": "ebc86484",
   "metadata": {},
   "outputs": [
    {
     "name": "stdout",
     "output_type": "stream",
     "text": [
      "salary\n",
      "1     11\n",
      "2      8\n",
      "3      7\n",
      "4     10\n",
      "5      6\n",
      "6      7\n",
      "7     13\n",
      "8     13\n",
      "9      6\n",
      "10     2\n",
      "11     8\n",
      "12     9\n",
      "Name: salary, dtype: int64\n"
     ]
    }
   ],
   "source": [
    "url = \"E:/xAPI-Edu-Data.csv\"\n",
    "df = pd.read_csv(url)\n",
    "#Grouping and perform sum over each group\n",
    "df =  df.groupby('salary')['salary'].count()\n",
    "print(df)"
   ]
  },
  {
   "cell_type": "code",
   "execution_count": 54,
   "id": "efff553c",
   "metadata": {},
   "outputs": [
    {
     "name": "stdout",
     "output_type": "stream",
     "text": [
      "   gender  year_Joining  salary\n",
      "0       F          1983       2\n",
      "1       F          1987       1\n",
      "2       F          1989       1\n",
      "3       F          1990       1\n",
      "4       F          1991       2\n",
      "5       F          1992       1\n",
      "6       F          1994       2\n",
      "7       F          1998       1\n",
      "8       F          1999       3\n",
      "9       F          2001       1\n",
      "10      F          2002       1\n",
      "11      F          2003       3\n",
      "12      F          2004       2\n",
      "13      F          2005       2\n",
      "14      F          2007       2\n",
      "15      F          2008       1\n",
      "16      F          2009       2\n",
      "17      F          2010       4\n",
      "18      F          2011       1\n",
      "19      F          2012       2\n",
      "20      F          2013       7\n",
      "21      F          2014       3\n",
      "22      F          2015       5\n",
      "23      F          2016       4\n",
      "24      F          2017       6\n",
      "25      M          1995       1\n",
      "26      M          1997       2\n",
      "27      M          1998       1\n",
      "28      M          1999       1\n",
      "29      M          2000       1\n",
      "30      M          2002       1\n",
      "31      M          2005       1\n",
      "32      M          2006       2\n",
      "33      M          2007       3\n",
      "34      M          2008       1\n",
      "35      M          2009       4\n",
      "36      M          2011       1\n",
      "37      M          2012       1\n",
      "38      M          2013       1\n",
      "39      M          2014       4\n",
      "40      M          2015       3\n",
      "41      M          2016       7\n",
      "42      M          2017       5\n"
     ]
    }
   ],
   "source": [
    "url = \"E:/xAPI-Edu-Data.csv\"\n",
    "df = pd.read_csv(url)\n",
    "#Group by two keys and then summarize each group\n",
    "#groupby(['DEPT','GENDER'],as_index=False).SALARY.mean()\n",
    "df =  df.groupby(['gender','year_Joining'],as_index=False).salary.count()\n",
    "print(df)"
   ]
  },
  {
   "cell_type": "code",
   "execution_count": null,
   "id": "3a153e83",
   "metadata": {},
   "outputs": [],
   "source": []
  },
  {
   "cell_type": "code",
   "execution_count": null,
   "id": "54b0216b",
   "metadata": {},
   "outputs": [],
   "source": []
  }
 ],
 "metadata": {
  "kernelspec": {
   "display_name": "Python 3 (ipykernel)",
   "language": "python",
   "name": "python3"
  },
  "language_info": {
   "codemirror_mode": {
    "name": "ipython",
    "version": 3
   },
   "file_extension": ".py",
   "mimetype": "text/x-python",
   "name": "python",
   "nbconvert_exporter": "python",
   "pygments_lexer": "ipython3",
   "version": "3.9.2"
  }
 },
 "nbformat": 4,
 "nbformat_minor": 5
}
