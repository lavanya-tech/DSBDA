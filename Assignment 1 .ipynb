{
 "cells": [
  {
   "cell_type": "code",
   "execution_count": 1,
   "id": "93b0e844",
   "metadata": {},
   "outputs": [
    {
     "name": "stdout",
     "output_type": "stream",
     "text": [
      "Ajay kumar\n"
     ]
    }
   ],
   "source": [
    "print(\"Ajay kumar\")"
   ]
  },
  {
   "cell_type": "code",
   "execution_count": 2,
   "id": "8a069ee6",
   "metadata": {},
   "outputs": [
    {
     "name": "stdout",
     "output_type": "stream",
     "text": [
      "Requirement already satisfied: pandas in c:\\users\\kumar\\appdata\\local\\programs\\python\\python39\\lib\\site-packages (1.4.2)Note: you may need to restart the kernel to use updated packages.\n",
      "\n",
      "Requirement already satisfied: numpy>=1.18.5 in c:\\users\\kumar\\appdata\\local\\programs\\python\\python39\\lib\\site-packages (from pandas) (1.22.3)\n",
      "Requirement already satisfied: python-dateutil>=2.8.1 in c:\\users\\kumar\\appdata\\local\\programs\\python\\python39\\lib\\site-packages (from pandas) (2.8.2)\n",
      "Requirement already satisfied: pytz>=2020.1 in c:\\users\\kumar\\appdata\\local\\programs\\python\\python39\\lib\\site-packages (from pandas) (2022.1)\n",
      "Requirement already satisfied: six>=1.5 in c:\\users\\kumar\\appdata\\local\\programs\\python\\python39\\lib\\site-packages (from python-dateutil>=2.8.1->pandas) (1.15.0)\n"
     ]
    }
   ],
   "source": [
    "pip install pandas\n"
   ]
  },
  {
   "cell_type": "code",
   "execution_count": 3,
   "id": "3a4b9c3a",
   "metadata": {},
   "outputs": [
    {
     "name": "stdout",
     "output_type": "stream",
     "text": [
      "       Email No.  the  to  ect  and  for  of    a  you  hou  ...  connevey  \\\n",
      "0        Email 1    0   0    1    0    0   0    2    0    0  ...         0   \n",
      "1        Email 2    8  13   24    6    6   2  102    1   27  ...         0   \n",
      "2        Email 3    0   0    1    0    0   0    8    0    0  ...         0   \n",
      "3        Email 4    0   5   22    0    5   1   51    2   10  ...         0   \n",
      "4        Email 5    7   6   17    1    5   2   57    0    9  ...         0   \n",
      "...          ...  ...  ..  ...  ...  ...  ..  ...  ...  ...  ...       ...   \n",
      "5167  Email 5168    2   2    2    3    0   0   32    0    0  ...         0   \n",
      "5168  Email 5169   35  27   11    2    6   5  151    4    3  ...         0   \n",
      "5169  Email 5170    0   0    1    1    0   0   11    0    0  ...         0   \n",
      "5170  Email 5171    2   7    1    0    2   1   28    2    0  ...         0   \n",
      "5171  Email 5172   22  24    5    1    6   5  148    8    2  ...         0   \n",
      "\n",
      "      jay  valued  lay  infrastructure  military  allowing  ff  dry  \\\n",
      "0       0       0    0               0         0         0   0    0   \n",
      "1       0       0    0               0         0         0   1    0   \n",
      "2       0       0    0               0         0         0   0    0   \n",
      "3       0       0    0               0         0         0   0    0   \n",
      "4       0       0    0               0         0         0   1    0   \n",
      "...   ...     ...  ...             ...       ...       ...  ..  ...   \n",
      "5167    0       0    0               0         0         0   0    0   \n",
      "5168    0       0    0               0         0         0   1    0   \n",
      "5169    0       0    0               0         0         0   0    0   \n",
      "5170    0       0    0               0         0         0   1    0   \n",
      "5171    0       0    0               0         0         0   0    0   \n",
      "\n",
      "      Prediction  \n",
      "0              0  \n",
      "1              0  \n",
      "2              0  \n",
      "3              0  \n",
      "4              0  \n",
      "...          ...  \n",
      "5167           0  \n",
      "5168           0  \n",
      "5169           1  \n",
      "5170           1  \n",
      "5171           0  \n",
      "\n",
      "[5172 rows x 3002 columns]\n"
     ]
    }
   ],
   "source": [
    "import pandas as pd\n",
    "#Email Spam Classification Dataset CSV\n",
    "url = \"E:\\emails.csv\"\n",
    "df = pd.read_csv(url)\n",
    "print(df)"
   ]
  },
  {
   "cell_type": "code",
   "execution_count": 4,
   "id": "37bda4b6",
   "metadata": {},
   "outputs": [
    {
     "name": "stdout",
     "output_type": "stream",
     "text": [
      "               the           to          ect          and          for  \\\n",
      "count  5172.000000  5172.000000  5172.000000  5172.000000  5172.000000   \n",
      "mean      6.640565     6.188128     5.143852     3.075599     3.124710   \n",
      "std      11.745009     9.534576    14.101142     6.045970     4.680522   \n",
      "min       0.000000     0.000000     1.000000     0.000000     0.000000   \n",
      "25%       0.000000     1.000000     1.000000     0.000000     1.000000   \n",
      "50%       3.000000     3.000000     1.000000     1.000000     2.000000   \n",
      "75%       8.000000     7.000000     4.000000     3.000000     4.000000   \n",
      "max     210.000000   132.000000   344.000000    89.000000    47.000000   \n",
      "\n",
      "                of            a          you          hou           in  ...  \\\n",
      "count  5172.000000  5172.000000  5172.000000  5172.000000  5172.000000  ...   \n",
      "mean      2.627030    55.517401     2.466551     2.024362    10.600155  ...   \n",
      "std       6.229845    87.574172     4.314444     6.967878    19.281892  ...   \n",
      "min       0.000000     0.000000     0.000000     0.000000     0.000000  ...   \n",
      "25%       0.000000    12.000000     0.000000     0.000000     1.000000  ...   \n",
      "50%       1.000000    28.000000     1.000000     0.000000     5.000000  ...   \n",
      "75%       2.000000    62.250000     3.000000     1.000000    12.000000  ...   \n",
      "max      77.000000  1898.000000    70.000000   167.000000   223.000000  ...   \n",
      "\n",
      "          connevey          jay       valued          lay  infrastructure  \\\n",
      "count  5172.000000  5172.000000  5172.000000  5172.000000     5172.000000   \n",
      "mean      0.005027     0.012568     0.010634     0.098028        0.004254   \n",
      "std       0.105788     0.199682     0.116693     0.569532        0.096252   \n",
      "min       0.000000     0.000000     0.000000     0.000000        0.000000   \n",
      "25%       0.000000     0.000000     0.000000     0.000000        0.000000   \n",
      "50%       0.000000     0.000000     0.000000     0.000000        0.000000   \n",
      "75%       0.000000     0.000000     0.000000     0.000000        0.000000   \n",
      "max       4.000000     7.000000     2.000000    12.000000        3.000000   \n",
      "\n",
      "          military     allowing           ff          dry   Prediction  \n",
      "count  5172.000000  5172.000000  5172.000000  5172.000000  5172.000000  \n",
      "mean      0.006574     0.004060     0.914733     0.006961     0.290023  \n",
      "std       0.138908     0.072145     2.780203     0.098086     0.453817  \n",
      "min       0.000000     0.000000     0.000000     0.000000     0.000000  \n",
      "25%       0.000000     0.000000     0.000000     0.000000     0.000000  \n",
      "50%       0.000000     0.000000     0.000000     0.000000     0.000000  \n",
      "75%       0.000000     0.000000     1.000000     0.000000     1.000000  \n",
      "max       4.000000     3.000000   114.000000     4.000000     1.000000  \n",
      "\n",
      "[8 rows x 3001 columns]\n"
     ]
    }
   ],
   "source": [
    "#looking for null values \n",
    "print(df.describe())"
   ]
  },
  {
   "cell_type": "code",
   "execution_count": 5,
   "id": "4769f0ba",
   "metadata": {},
   "outputs": [
    {
     "name": "stdout",
     "output_type": "stream",
     "text": [
      "False\n"
     ]
    }
   ],
   "source": [
    "print(df.isnull().values.any())"
   ]
  },
  {
   "cell_type": "code",
   "execution_count": 6,
   "id": "ebc86484",
   "metadata": {},
   "outputs": [
    {
     "name": "stdout",
     "output_type": "stream",
     "text": [
      "Size 15526344\n",
      "Tuple Shape (5172, 3002)\n",
      "Dimension 2\n"
     ]
    }
   ],
   "source": [
    "#Dimension of the dataframe \n",
    "print(\"Size\", df.size)\n",
    "print(\"Tuple Shape\", df.shape)\n",
    "print(\"Dimension\", df.ndim)"
   ]
  },
  {
   "cell_type": "code",
   "execution_count": 7,
   "id": "efff553c",
   "metadata": {},
   "outputs": [
    {
     "name": "stdout",
     "output_type": "stream",
     "text": [
      "<bound method NDFrame.head of        Email No.  the  to  ect  and  for  of    a  you  hou  ...  connevey  \\\n",
      "0        Email 1    0   0    1    0    0   0    2    0    0  ...         0   \n",
      "1        Email 2    8  13   24    6    6   2  102    1   27  ...         0   \n",
      "2        Email 3    0   0    1    0    0   0    8    0    0  ...         0   \n",
      "3        Email 4    0   5   22    0    5   1   51    2   10  ...         0   \n",
      "4        Email 5    7   6   17    1    5   2   57    0    9  ...         0   \n",
      "...          ...  ...  ..  ...  ...  ...  ..  ...  ...  ...  ...       ...   \n",
      "5167  Email 5168    2   2    2    3    0   0   32    0    0  ...         0   \n",
      "5168  Email 5169   35  27   11    2    6   5  151    4    3  ...         0   \n",
      "5169  Email 5170    0   0    1    1    0   0   11    0    0  ...         0   \n",
      "5170  Email 5171    2   7    1    0    2   1   28    2    0  ...         0   \n",
      "5171  Email 5172   22  24    5    1    6   5  148    8    2  ...         0   \n",
      "\n",
      "      jay  valued  lay  infrastructure  military  allowing  ff  dry  \\\n",
      "0       0       0    0               0         0         0   0    0   \n",
      "1       0       0    0               0         0         0   1    0   \n",
      "2       0       0    0               0         0         0   0    0   \n",
      "3       0       0    0               0         0         0   0    0   \n",
      "4       0       0    0               0         0         0   1    0   \n",
      "...   ...     ...  ...             ...       ...       ...  ..  ...   \n",
      "5167    0       0    0               0         0         0   0    0   \n",
      "5168    0       0    0               0         0         0   1    0   \n",
      "5169    0       0    0               0         0         0   0    0   \n",
      "5170    0       0    0               0         0         0   1    0   \n",
      "5171    0       0    0               0         0         0   0    0   \n",
      "\n",
      "      Prediction  \n",
      "0              0  \n",
      "1              0  \n",
      "2              0  \n",
      "3              0  \n",
      "4              0  \n",
      "...          ...  \n",
      "5167           0  \n",
      "5168           0  \n",
      "5169           1  \n",
      "5170           1  \n",
      "5171           0  \n",
      "\n",
      "[5172 rows x 3002 columns]>\n",
      "Email No.     object\n",
      "the            int64\n",
      "to             int64\n",
      "ect            int64\n",
      "and            int64\n",
      "               ...  \n",
      "military       int64\n",
      "allowing       int64\n",
      "ff             int64\n",
      "dry            int64\n",
      "Prediction     int64\n",
      "Length: 3002, dtype: object\n",
      "<class 'pandas.core.frame.DataFrame'>\n",
      "RangeIndex: 5172 entries, 0 to 5171\n",
      "Columns: 3002 entries, Email No. to Prediction\n",
      "dtypes: int64(3001), object(1)\n",
      "memory usage: 118.5+ MB\n",
      "INFO None\n"
     ]
    }
   ],
   "source": [
    "#providing variables discriptions\n",
    "print(df.head)\n",
    "print(df.dtypes)\n",
    "print(\"INFO\",df.info())"
   ]
  },
  {
   "cell_type": "code",
   "execution_count": 8,
   "id": "3a153e83",
   "metadata": {},
   "outputs": [
    {
     "name": "stdout",
     "output_type": "stream",
     "text": [
      "  Email No.  the  to   ect  and  for  of    a  you  hou  ...  connevey  jay  \\\n",
      "0   Email 1    0   0   1.0    0    0   0    2    0    0  ...         0    0   \n",
      "1   Email 2    8  13  24.0    6    6   2  102    1   27  ...         0    0   \n",
      "2   Email 3    0   0   1.0    0    0   0    8    0    0  ...         0    0   \n",
      "3   Email 4    0   5  22.0    0    5   1   51    2   10  ...         0    0   \n",
      "4   Email 5    7   6  17.0    1    5   2   57    0    9  ...         0    0   \n",
      "\n",
      "   valued  lay  infrastructure  military  allowing  ff  dry  Prediction  \n",
      "0       0    0               0         0         0   0    0           0  \n",
      "1       0    0               0         0         0   1    0           0  \n",
      "2       0    0               0         0         0   0    0           0  \n",
      "3       0    0               0         0         0   0    0           0  \n",
      "4       0    0               0         0         0   1    0           0  \n",
      "\n",
      "[5 rows x 3002 columns]\n",
      "<class 'pandas.core.frame.DataFrame'>\n",
      "RangeIndex: 5172 entries, 0 to 5171\n",
      "Columns: 3002 entries, Email No. to Prediction\n",
      "dtypes: float64(1), int64(3000), object(1)\n",
      "memory usage: 118.5+ MB\n"
     ]
    }
   ],
   "source": [
    "df1 = df.copy()\n",
    "df1[\"ect\"] = df1[\"ect\"].astype(\"float64\")\n",
    "print(df1.head())\n",
    "df1.info()"
   ]
  },
  {
   "cell_type": "code",
   "execution_count": null,
   "id": "98b13b06",
   "metadata": {},
   "outputs": [],
   "source": []
  }
 ],
 "metadata": {
  "kernelspec": {
   "display_name": "Python 3 (ipykernel)",
   "language": "python",
   "name": "python3"
  },
  "language_info": {
   "codemirror_mode": {
    "name": "ipython",
    "version": 3
   },
   "file_extension": ".py",
   "mimetype": "text/x-python",
   "name": "python",
   "nbconvert_exporter": "python",
   "pygments_lexer": "ipython3",
   "version": "3.9.2"
  }
 },
 "nbformat": 4,
 "nbformat_minor": 5
}
