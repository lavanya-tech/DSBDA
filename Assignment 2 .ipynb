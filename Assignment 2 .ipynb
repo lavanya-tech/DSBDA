{
 "cells": [
  {
   "cell_type": "code",
   "execution_count": 1,
   "id": "93b0e844",
   "metadata": {},
   "outputs": [
    {
     "name": "stdout",
     "output_type": "stream",
     "text": [
      "Ajay Kumar\n"
     ]
    }
   ],
   "source": [
    "print(\"Ajay Kumar\")"
   ]
  },
  {
   "cell_type": "code",
   "execution_count": 1,
   "id": "8a069ee6",
   "metadata": {},
   "outputs": [
    {
     "name": "stdout",
     "output_type": "stream",
     "text": [
      "Requirement already satisfied: pandas in c:\\users\\kumar\\appdata\\local\\programs\\python\\python39\\lib\\site-packages (1.4.2)\n",
      "Requirement already satisfied: numpy>=1.18.5 in c:\\users\\kumar\\appdata\\local\\programs\\python\\python39\\lib\\site-packages (from pandas) (1.22.3)\n",
      "Requirement already satisfied: python-dateutil>=2.8.1 in c:\\users\\kumar\\appdata\\local\\programs\\python\\python39\\lib\\site-packages (from pandas) (2.8.2)\n",
      "Requirement already satisfied: pytz>=2020.1 in c:\\users\\kumar\\appdata\\local\\programs\\python\\python39\\lib\\site-packages (from pandas) (2022.1)\n",
      "Requirement already satisfied: six>=1.5 in c:\\users\\kumar\\appdata\\local\\programs\\python\\python39\\lib\\site-packages (from python-dateutil>=2.8.1->pandas) (1.15.0)\n",
      "Note: you may need to restart the kernel to use updated packages.\n"
     ]
    }
   ],
   "source": [
    "pip install pandas\n"
   ]
  },
  {
   "cell_type": "code",
   "execution_count": 50,
   "id": "3a4b9c3a",
   "metadata": {},
   "outputs": [
    {
     "name": "stdout",
     "output_type": "stream",
     "text": [
      "   gender NationalITy PlaceofBirth       StageID GradeID SectionID   Topic  \\\n",
      "0     NaN          KW       KuwaIT    lowerlevel    G-04         A      IT   \n",
      "1       M          KW          NaN    lowerlevel    G-04         A     NaN   \n",
      "2       M          KW       KuwaIT           NaN    G-04         A      IT   \n",
      "3       M          KW       KuwaIT    lowerlevel    G-04         A      IT   \n",
      "4     NaN          KW       KuwaIT    lowerlevel    G-04         A      IT   \n",
      "5       F          KW       KuwaIT    lowerlevel    G-04         A      IT   \n",
      "6       M          KW       KuwaIT  MiddleSchool    G-07         A     NaN   \n",
      "7       M          KW          NaN  MiddleSchool    G-07         A    Math   \n",
      "8       F          KW       KuwaIT  MiddleSchool    G-07         A    Math   \n",
      "9       F          KW       KuwaIT  MiddleSchool    G-07         B      IT   \n",
      "10      M          KW       KuwaIT  MiddleSchool    G-07         A    Math   \n",
      "11      M          KW       KuwaIT  MiddleSchool    G-07         B    Math   \n",
      "12      M          KW       KuwaIT    lowerlevel     NaN         A      IT   \n",
      "13      M     lebanon      lebanon           NaN    G-08         A    Math   \n",
      "14      F          KW       KuwaIT  MiddleSchool    G-08         A    Math   \n",
      "15      F          KW       KuwaIT  MiddleSchool    G-06         A      IT   \n",
      "16    NaN         NaN       KuwaIT  MiddleSchool    G-07         B      IT   \n",
      "17      M          KW          NaN  MiddleSchool    G-07         A     NaN   \n",
      "18      F          KW       KuwaIT  MiddleSchool    G-07         A      IT   \n",
      "19    NaN          KW       KuwaIT  MiddleSchool    G-07         B      IT   \n",
      "20      F          KW          NaN  MiddleSchool    G-07         A      IT   \n",
      "21      F          KW       KuwaIT  MiddleSchool    G-07         B      IT   \n",
      "22      M          KW       KuwaIT  MiddleSchool    G-07         A      IT   \n",
      "23    NaN          KW       KuwaIT  MiddleSchool    G-07         A      IT   \n",
      "24      M          KW       KuwaIT  MiddleSchool    G-07         B     NaN   \n",
      "25      M          KW          NaN  MiddleSchool    G-07         A      IT   \n",
      "26    NaN          KW       KuwaIT  MiddleSchool    G-07         B      IT   \n",
      "27      M          KW       KuwaIT  MiddleSchool    G-08         A  Arabic   \n",
      "\n",
      "   Semester Relation   cns   dsa  oops  os  \n",
      "0         F   Father   NaN  16.0     2  20  \n",
      "1         F   Father  20.0  20.0     3  25  \n",
      "2         F   Father  10.0   7.0     0  30  \n",
      "3         F   Father   NaN  25.0     5  35  \n",
      "4         F   Father  40.0  50.0    12  50  \n",
      "5         F   Father  42.0  30.0    13  70  \n",
      "6         F   Father  35.0  12.0     0  17  \n",
      "7         F      NaN   NaN   NaN    15  22  \n",
      "8         F   Father  12.0  21.0    16  50  \n",
      "9         F   Father   NaN  80.0    25  70  \n",
      "10        F   Father  50.0  88.0    30  80  \n",
      "11        F   Father  19.0   6.0    19  12  \n",
      "12        F   Father   5.0   1.0     0  11  \n",
      "13        F   Father  20.0  14.0    12  19  \n",
      "14        F      NaN   NaN  70.0    44  60  \n",
      "15        F   Father  30.0  40.0    22  66  \n",
      "16        F   Father  36.0  30.0    20  80  \n",
      "17        F   Father   NaN  13.0    35  90  \n",
      "18        F      Mum  69.0  15.0    36  96  \n",
      "19        F      Mum  70.0  50.0    40  99  \n",
      "20        F   Father   NaN  60.0    33  90  \n",
      "21        F   Father  10.0  12.0     4  80  \n",
      "22        F   Father  15.0  21.0     2  90  \n",
      "23        F   Father   2.0   0.0     2  50  \n",
      "24        F   Father   0.0   2.0     3  70  \n",
      "25        F   Father   8.0   7.0    30  40  \n",
      "26        F   Father  19.0  19.0    25  40  \n",
      "27        F   Father  25.0  15.0    12  33  \n"
     ]
    }
   ],
   "source": [
    "import pandas as pd\n",
    "#Dataset CSV\n",
    "url = \"E:\\chrome_download/xAPI-Edu-Data.csv\"\n",
    "df = pd.read_csv(url)\n",
    "print(df)"
   ]
  },
  {
   "cell_type": "code",
   "execution_count": 32,
   "id": "37bda4b6",
   "metadata": {
    "scrolled": true
   },
   "outputs": [
    {
     "data": {
      "text/plain": [
       "(28, 13)"
      ]
     },
     "execution_count": 32,
     "metadata": {},
     "output_type": "execute_result"
    }
   ],
   "source": [
    "#print the dimension of dataset\n",
    "df.shape"
   ]
  },
  {
   "cell_type": "code",
   "execution_count": 33,
   "id": "4769f0ba",
   "metadata": {},
   "outputs": [
    {
     "name": "stdout",
     "output_type": "stream",
     "text": [
      "gender          4\n",
      "NationalITy     1\n",
      "PlaceofBirth    5\n",
      "StageID         2\n",
      "GradeID         1\n",
      "SectionID       0\n",
      "Topic           4\n",
      "Semester        0\n",
      "Relation        2\n",
      "cns             7\n",
      "dsa             1\n",
      "oops            0\n",
      "os              0\n",
      "dtype: int64\n"
     ]
    }
   ],
   "source": [
    "#check no null value in each column\n",
    "print(df.isnull().sum())"
   ]
  },
  {
   "cell_type": "code",
   "execution_count": 34,
   "id": "ebc86484",
   "metadata": {},
   "outputs": [
    {
     "name": "stdout",
     "output_type": "stream",
     "text": [
      "gender          0\n",
      "NationalITy     0\n",
      "PlaceofBirth    0\n",
      "StageID         0\n",
      "GradeID         0\n",
      "SectionID       0\n",
      "Topic           0\n",
      "Semester        0\n",
      "Relation        0\n",
      "cns             0\n",
      "dsa             0\n",
      "oops            0\n",
      "os              0\n",
      "dtype: int64\n"
     ]
    },
    {
     "data": {
      "text/plain": [
       "(10, 13)"
      ]
     },
     "execution_count": 34,
     "metadata": {},
     "output_type": "execute_result"
    }
   ],
   "source": [
    "#drop the whole row which having NULL value\n",
    "df.dropna(inplace=True)\n",
    "print(df.isnull().sum())\n",
    "df.shape\n",
    "#these changes not reflect with your dataset , only change in curr data frame \n",
    "#as you again read dataset, NULL are there as before"
   ]
  },
  {
   "cell_type": "code",
   "execution_count": 51,
   "id": "efff553c",
   "metadata": {},
   "outputs": [],
   "source": [
    "import pandas as pd\n",
    "#Dataset CSV\n",
    "url = \"E:\\chrome_download/xAPI-Edu-Data.csv\"\n",
    "df = pd.read_csv(url)"
   ]
  },
  {
   "cell_type": "code",
   "execution_count": 12,
   "id": "3a153e83",
   "metadata": {},
   "outputs": [
    {
     "name": "stdout",
     "output_type": "stream",
     "text": [
      "0     25.571429\n",
      "1     20.000000\n",
      "2     10.000000\n",
      "3     25.571429\n",
      "4     40.000000\n",
      "5     42.000000\n",
      "6     35.000000\n",
      "7     25.571429\n",
      "8     12.000000\n",
      "9     25.571429\n",
      "10    50.000000\n",
      "11    19.000000\n",
      "12     5.000000\n",
      "13    20.000000\n",
      "14    25.571429\n",
      "15    30.000000\n",
      "16    36.000000\n",
      "17    25.571429\n",
      "18    69.000000\n",
      "19    70.000000\n",
      "20    25.571429\n",
      "21    10.000000\n",
      "22    15.000000\n",
      "23     2.000000\n",
      "24     0.000000\n",
      "25     8.000000\n",
      "26    19.000000\n",
      "27    25.000000\n",
      "Name: cns, dtype: float64\n"
     ]
    }
   ],
   "source": [
    "#imputation by mean\n",
    "df[\"cns\"]=df[\"cns\"].replace(np.NAN,df[\"cns\"].mean())\n",
    "\n",
    "print(df[\"cns\"])"
   ]
  },
  {
   "cell_type": "code",
   "execution_count": 52,
   "id": "98b13b06",
   "metadata": {},
   "outputs": [],
   "source": [
    "import pandas as pd\n",
    "import numpy as np\n",
    "#Dataset CSV\n",
    "url = \"E:\\chrome_download/xAPI-Edu-Data.csv\"\n",
    "df = pd.read_csv(url)"
   ]
  },
  {
   "cell_type": "code",
   "execution_count": 20,
   "id": "a57abbd8",
   "metadata": {},
   "outputs": [
    {
     "name": "stdout",
     "output_type": "stream",
     "text": [
      "0     20.0\n",
      "1     20.0\n",
      "2     10.0\n",
      "3     20.0\n",
      "4     40.0\n",
      "5     42.0\n",
      "6     35.0\n",
      "7     20.0\n",
      "8     12.0\n",
      "9     20.0\n",
      "10    50.0\n",
      "11    19.0\n",
      "12     5.0\n",
      "13    20.0\n",
      "14    20.0\n",
      "15    30.0\n",
      "16    36.0\n",
      "17    20.0\n",
      "18    69.0\n",
      "19    70.0\n",
      "20    20.0\n",
      "21    10.0\n",
      "22    15.0\n",
      "23     2.0\n",
      "24     0.0\n",
      "25     8.0\n",
      "26    19.0\n",
      "27    25.0\n",
      "Name: cns, dtype: float64\n"
     ]
    }
   ],
   "source": [
    "#imputation by median\n",
    "\n",
    "df[\"cns\"]=df[\"cns\"].replace(np.NAN,df[\"cns\"].median())\n",
    "print(df[\"cns\"])\n"
   ]
  },
  {
   "cell_type": "code",
   "execution_count": 55,
   "id": "19071950",
   "metadata": {},
   "outputs": [],
   "source": [
    "\n",
    "#Dataset CSV\n",
    "url = \"E:\\chrome_download/xAPI-Edu-Data.csv\"\n",
    "df = pd.read_csv(url)"
   ]
  },
  {
   "cell_type": "code",
   "execution_count": 54,
   "id": "97609cc5",
   "metadata": {},
   "outputs": [
    {
     "name": "stdout",
     "output_type": "stream",
     "text": [
      "0     20.0\n",
      "1     20.0\n",
      "2     10.0\n",
      "3     20.0\n",
      "4     40.0\n",
      "5     42.0\n",
      "6     35.0\n",
      "7     20.0\n",
      "8     12.0\n",
      "9     20.0\n",
      "10    50.0\n",
      "11    19.0\n",
      "12     5.0\n",
      "13    20.0\n",
      "14    20.0\n",
      "15    30.0\n",
      "16    36.0\n",
      "17    20.0\n",
      "18    69.0\n",
      "19    70.0\n",
      "20    20.0\n",
      "21    10.0\n",
      "22    15.0\n",
      "23     2.0\n",
      "24     0.0\n",
      "25     8.0\n",
      "26    19.0\n",
      "27    25.0\n",
      "Name: cns, dtype: float64\n"
     ]
    }
   ],
   "source": [
    "#imputation by median\n",
    "\n",
    "import statistics\n",
    "df[\"cns\"]=df[\"cns\"].replace(np.NAN,statistics.mode(df[\"cns\"]))\n",
    "print(df[\"cns\"])"
   ]
  },
  {
   "cell_type": "code",
   "execution_count": 56,
   "id": "912528b1",
   "metadata": {},
   "outputs": [],
   "source": [
    "\n",
    "#Dataset CSV\n",
    "url = \"E:\\chrome_download/xAPI-Edu-Data.csv\"\n",
    "df = pd.read_csv(url)"
   ]
  },
  {
   "cell_type": "code",
   "execution_count": 58,
   "id": "3fecaa5f",
   "metadata": {},
   "outputs": [
    {
     "name": "stdout",
     "output_type": "stream",
     "text": [
      "0      NaN\n",
      "1     20.0\n",
      "2     10.0\n",
      "3     25.0\n",
      "4     40.0\n",
      "5     42.0\n",
      "6     35.0\n",
      "7     23.5\n",
      "8     12.0\n",
      "9     31.0\n",
      "10    50.0\n",
      "11    19.0\n",
      "12     5.0\n",
      "13    20.0\n",
      "14    25.0\n",
      "15    30.0\n",
      "16    36.0\n",
      "17    52.5\n",
      "18    69.0\n",
      "19    70.0\n",
      "20    40.0\n",
      "21    10.0\n",
      "22    15.0\n",
      "23     2.0\n",
      "24     0.0\n",
      "25     8.0\n",
      "26    19.0\n",
      "27    25.0\n",
      "Name: cns, dtype: float64\n"
     ]
    }
   ],
   "source": [
    "#imputation by interpolation -linear\n",
    "df[\"cns\"]=df[\"cns\"].interpolate(method='linear',limit_direction='forward',axis=0)\n",
    "print(df[\"cns\"])"
   ]
  },
  {
   "cell_type": "code",
   "execution_count": 59,
   "id": "6ef03aa0",
   "metadata": {},
   "outputs": [
    {
     "name": "stdout",
     "output_type": "stream",
     "text": [
      "gender          6\n",
      "NationalITy     1\n",
      "PlaceofBirth    5\n",
      "StageID         2\n",
      "GradeID         1\n",
      "SectionID       0\n",
      "Topic           4\n",
      "Semester        0\n",
      "Relation        2\n",
      "cns             7\n",
      "dsa             1\n",
      "oops            0\n",
      "os              0\n",
      "dtype: int64\n"
     ]
    },
    {
     "data": {
      "text/plain": [
       "(28, 13)"
      ]
     },
     "execution_count": 59,
     "metadata": {},
     "output_type": "execute_result"
    }
   ],
   "source": [
    "#Dataset CSV\n",
    "url = \"E:\\chrome_download/xAPI-Edu-Data.csv\"\n",
    "df = pd.read_csv(url)\n",
    "\n",
    "print(df.isnull().sum())\n",
    "df.shape"
   ]
  },
  {
   "cell_type": "code",
   "execution_count": 35,
   "id": "3b006ae5",
   "metadata": {},
   "outputs": [
    {
     "name": "stdout",
     "output_type": "stream",
     "text": [
      "0     unknow\n",
      "1          M\n",
      "2          M\n",
      "3          M\n",
      "4     unknow\n",
      "5          F\n",
      "6          M\n",
      "7          M\n",
      "8          F\n",
      "9          F\n",
      "10         M\n",
      "11         M\n",
      "12         M\n",
      "13         M\n",
      "14         F\n",
      "15         F\n",
      "16    unknow\n",
      "17         M\n",
      "18         F\n",
      "19    unknow\n",
      "20         F\n",
      "21         F\n",
      "22         M\n",
      "23    unknow\n",
      "24         M\n",
      "25         M\n",
      "26    unknow\n",
      "27         M\n",
      "Name: gender, dtype: object\n"
     ]
    }
   ],
   "source": [
    "#replace categorical variable with random value\n",
    "df[\"gender\"]=df[\"gender\"].fillna('unknow')\n",
    "print(df[\"gender\"])"
   ]
  },
  {
   "cell_type": "code",
   "execution_count": 60,
   "id": "786d59cb",
   "metadata": {},
   "outputs": [
    {
     "name": "stdout",
     "output_type": "stream",
     "text": [
      "0     NaN\n",
      "1       M\n",
      "2       M\n",
      "3       M\n",
      "4       M\n",
      "5       F\n",
      "6       M\n",
      "7       M\n",
      "8       F\n",
      "9       F\n",
      "10      M\n",
      "11      M\n",
      "12      M\n",
      "13      M\n",
      "14      F\n",
      "15      F\n",
      "16      F\n",
      "17      M\n",
      "18      F\n",
      "19      F\n",
      "20      F\n",
      "21      F\n",
      "22      M\n",
      "23      M\n",
      "24      M\n",
      "25      M\n",
      "26      M\n",
      "27      M\n",
      "Name: gender, dtype: object\n"
     ]
    }
   ],
   "source": [
    "#Dataset CSV\n",
    "url = \"E:\\chrome_download/xAPI-Edu-Data.csv\"\n",
    "df = pd.read_csv(url)\n",
    "\n",
    "#replace categorical variable with previous value\n",
    "df[\"gender\"]=df[\"gender\"].fillna(method='ffill')\n",
    "print(df[\"gender\"])"
   ]
  },
  {
   "cell_type": "code",
   "execution_count": 61,
   "id": "19538a50",
   "metadata": {},
   "outputs": [
    {
     "name": "stdout",
     "output_type": "stream",
     "text": [
      "0     100\n",
      "1       M\n",
      "2       M\n",
      "3       M\n",
      "4     100\n",
      "5       F\n",
      "6       M\n",
      "7       M\n",
      "8       F\n",
      "9       F\n",
      "10      M\n",
      "11      M\n",
      "12      M\n",
      "13      M\n",
      "14      F\n",
      "15      F\n",
      "16    100\n",
      "17      M\n",
      "18      F\n",
      "19    100\n",
      "20      F\n",
      "21      F\n",
      "22      M\n",
      "23    100\n",
      "24      M\n",
      "25      M\n",
      "26    100\n",
      "27      M\n",
      "Name: gender, dtype: object\n"
     ]
    }
   ],
   "source": [
    "#Dataset CSV\n",
    "url = \"E:\\chrome_download/xAPI-Edu-Data.csv\"\n",
    "df = pd.read_csv(url)\n",
    "\n",
    "#create the inconsistent data(as any no is not the value for gender)\n",
    "df[\"gender\"]=df[\"gender\"].fillna(100)\n",
    "print(df[\"gender\"])\n"
   ]
  },
  {
   "cell_type": "code",
   "execution_count": 62,
   "id": "94e59bed",
   "metadata": {},
   "outputs": [],
   "source": [
    "#so we replace the inconsistent data with NULL value\n",
    "cnt=0;\n",
    "for row in df[\"gender\"]:\n",
    "    try:\n",
    "        int(row)\n",
    "        df.loc[cnt,\"gender\"]=np.nan\n",
    "    except ValueError:\n",
    "        pass\n",
    "    cnt+=1"
   ]
  },
  {
   "cell_type": "code",
   "execution_count": 64,
   "id": "2a6e0083",
   "metadata": {},
   "outputs": [
    {
     "name": "stdout",
     "output_type": "stream",
     "text": [
      "0     NaN\n",
      "1       M\n",
      "2       M\n",
      "3       M\n",
      "4     NaN\n",
      "5       F\n",
      "6       M\n",
      "7       M\n",
      "8       F\n",
      "9       F\n",
      "10      M\n",
      "11      M\n",
      "12      M\n",
      "13      M\n",
      "14      F\n",
      "15      F\n",
      "16    NaN\n",
      "17      M\n",
      "18      F\n",
      "19    NaN\n",
      "20      F\n",
      "21      F\n",
      "22      M\n",
      "23    NaN\n",
      "24      M\n",
      "25      M\n",
      "26    NaN\n",
      "27      M\n",
      "Name: gender, dtype: object\n"
     ]
    }
   ],
   "source": [
    "#so the value with 100 replace by NULL\n",
    "print(df[\"gender\"])"
   ]
  },
  {
   "cell_type": "code",
   "execution_count": null,
   "id": "6e5ef166",
   "metadata": {},
   "outputs": [],
   "source": []
  }
 ],
 "metadata": {
  "kernelspec": {
   "display_name": "Python 3 (ipykernel)",
   "language": "python",
   "name": "python3"
  },
  "language_info": {
   "codemirror_mode": {
    "name": "ipython",
    "version": 3
   },
   "file_extension": ".py",
   "mimetype": "text/x-python",
   "name": "python",
   "nbconvert_exporter": "python",
   "pygments_lexer": "ipython3",
   "version": "3.9.2"
  }
 },
 "nbformat": 4,
 "nbformat_minor": 5
}
